{
 "cells": [
  {
   "cell_type": "markdown",
   "id": "79545228-ff49-4d8b-a0c2-b014efef3a2a",
   "metadata": {},
   "source": [
    "# WS_follow_along_makemore.ipynb\n",
    "# WESmith 06/06/23\n",
    "## follow along with Karpathy video\n",
    "##  https://www.youtube.com/watch?v=PaCmpygFfXo"
   ]
  },
  {
   "cell_type": "code",
   "execution_count": null,
   "id": "3e6adb6b-535f-42d4-a997-93a943f69cc4",
   "metadata": {},
   "outputs": [],
   "source": [
    "import torch\n",
    "import torch.nn.functional as F\n",
    "import matplotlib.pyplot as plt\n",
    "%matplotlib inline"
   ]
  },
  {
   "cell_type": "code",
   "execution_count": null,
   "id": "9f18c5f7-917a-493f-b1b4-06f43a81c62c",
   "metadata": {},
   "outputs": [],
   "source": [
    "words = open('../names.txt', 'r').read().splitlines()"
   ]
  },
  {
   "cell_type": "code",
   "execution_count": null,
   "id": "9015a5a1-8da6-45ad-9eff-e04cb72765a1",
   "metadata": {},
   "outputs": [],
   "source": [
    "words[:5]"
   ]
  },
  {
   "cell_type": "code",
   "execution_count": null,
   "id": "238e3944-bc7a-465f-bc4d-8275c53096c0",
   "metadata": {},
   "outputs": [],
   "source": [
    "len(words)"
   ]
  },
  {
   "cell_type": "code",
   "execution_count": null,
   "id": "2a33a67b-cd58-4bcf-a876-8a8dd6ffbad7",
   "metadata": {},
   "outputs": [],
   "source": [
    "dd = list(len(w) for w in words)\n",
    "min(dd), max(dd)"
   ]
  },
  {
   "cell_type": "code",
   "execution_count": null,
   "id": "fc9b506a-7281-42d4-8592-1d1dc6771174",
   "metadata": {},
   "outputs": [],
   "source": [
    "b = {}\n",
    "for w in words:\n",
    "    chs = ['<S>'] + list(w) + ['<E>']\n",
    "    for ch1, ch2 in zip(chs, chs[1:]):\n",
    "        bigram = (ch1, ch2)\n",
    "        b[bigram] = b.get(bigram, 0) + 1\n",
    "        #print(ch1, ch2)"
   ]
  },
  {
   "cell_type": "code",
   "execution_count": null,
   "id": "4d2b734d-cd8c-45bb-9be1-9df97ef235de",
   "metadata": {},
   "outputs": [],
   "source": [
    "len(b)"
   ]
  },
  {
   "cell_type": "code",
   "execution_count": null,
   "id": "084891a3-b497-4bfa-88cf-a80817bfa500",
   "metadata": {
    "tags": []
   },
   "outputs": [],
   "source": [
    "sorted(b.items(), key=lambda kv: -kv[1]) # or could use reverse=True with +kv[1]"
   ]
  },
  {
   "cell_type": "code",
   "execution_count": null,
   "id": "c9d60648-1191-4889-93b0-014b7e9ff3c0",
   "metadata": {
    "tags": []
   },
   "outputs": [],
   "source": [
    "chars = sorted(list(set(''.join(words))))\n",
    "stoi  = {s:i+1 for i, s in enumerate(chars)}\n",
    "stoi['.'] = 0\n",
    "itos   = {i:s for s, i in stoi.items()}\n",
    "itos"
   ]
  },
  {
   "cell_type": "code",
   "execution_count": null,
   "id": "3020423c-5f38-4e8a-af0c-c5ea04650209",
   "metadata": {},
   "outputs": [],
   "source": [
    "N = torch.zeros((27, 27), dtype=torch.int32)\n",
    "for w in words:\n",
    "    chs = ['.'] + list(w) + ['.']\n",
    "    for ch1, ch2 in zip(chs, chs[1:]):\n",
    "        ix1 = stoi[ch1]\n",
    "        ix2 = stoi[ch2]\n",
    "        N[ix1, ix2] += 1"
   ]
  },
  {
   "cell_type": "code",
   "execution_count": null,
   "id": "2dfd6269-edbc-4d9a-8b1e-700d924c662c",
   "metadata": {
    "tags": []
   },
   "outputs": [],
   "source": [
    "plt.figure(figsize=(16,16))\n",
    "plt.imshow(N, cmap='Blues')\n",
    "for i in range(27):\n",
    "    for j in range(27):\n",
    "        chstr = itos[i] + itos[j]\n",
    "        plt.text(j, i, chstr, ha='center', va='bottom', color='gray')\n",
    "        plt.text(j, i, N[i, j].item(), ha='center', va='top', color='gray')\n",
    "plt.axis('off')"
   ]
  },
  {
   "cell_type": "code",
   "execution_count": null,
   "id": "e3cc097f-bcdd-4464-9226-325e6823e488",
   "metadata": {},
   "outputs": [],
   "source": [
    "N[0]"
   ]
  },
  {
   "cell_type": "code",
   "execution_count": null,
   "id": "c2fdea61-43eb-4da2-8c55-7be6c6ba789e",
   "metadata": {},
   "outputs": [],
   "source": [
    "p = N[0].float()\n",
    "p /= p.sum()\n",
    "p"
   ]
  },
  {
   "cell_type": "code",
   "execution_count": null,
   "id": "084e8f8b-0df0-4a50-810a-55134c0ac26f",
   "metadata": {},
   "outputs": [],
   "source": [
    "g  = torch.Generator().manual_seed(2147483647) # same seed as in video\n",
    "ix = torch.multinomial(p, num_samples=1, replacement=True, generator=g).item()\n",
    "itos[ix]"
   ]
  },
  {
   "cell_type": "code",
   "execution_count": null,
   "id": "a6cc7138-4826-475b-8e5a-989db056ec7e",
   "metadata": {},
   "outputs": [],
   "source": [
    "p = torch.rand(3, generator=g)\n",
    "p = p/p.sum()\n",
    "p"
   ]
  },
  {
   "cell_type": "code",
   "execution_count": null,
   "id": "ad9a1b0c-61a5-42c2-862d-1611ffb8da63",
   "metadata": {},
   "outputs": [],
   "source": [
    "torch.multinomial(p, num_samples=100, replacement=True, generator=g)"
   ]
  },
  {
   "cell_type": "code",
   "execution_count": null,
   "id": "bc7d48b1-b9b7-4ace-a707-78855ac8ca44",
   "metadata": {},
   "outputs": [],
   "source": [
    "# normalize each row\n",
    "P  = (N + 1).float()  # add 1 for model smoothing, to avoid log blowing up\n",
    "P /= P.sum(1, keepdim=True) # needs keepdim True here for proper broadcasting: be careful in general"
   ]
  },
  {
   "cell_type": "code",
   "execution_count": null,
   "id": "8a414cfd-783c-4242-9153-25911a4e57a2",
   "metadata": {},
   "outputs": [],
   "source": [
    "P.sum(1, keepdim=True).shape, P.sum(1)"
   ]
  },
  {
   "cell_type": "code",
   "execution_count": null,
   "id": "fd06679e-b296-418c-b9e8-de3e167c34ae",
   "metadata": {},
   "outputs": [],
   "source": [
    "g  = torch.Generator().manual_seed(2147483647) # same seed as in video\n",
    "\n",
    "for i in range(10):\n",
    "    out = []\n",
    "    ix = 0\n",
    "    while True:\n",
    "        p = P[ix]\n",
    "        ix = torch.multinomial(p, num_samples=1, replacement=True, generator=g).item()\n",
    "        out.append(itos[ix])\n",
    "        if ix == 0: break\n",
    "    print(''.join(out))"
   ]
  },
  {
   "cell_type": "code",
   "execution_count": null,
   "id": "b1eabc2a-58d1-4aa9-b89d-d1c0908bd1b9",
   "metadata": {},
   "outputs": [],
   "source": [
    "log_likelihood = 0.0\n",
    "n = 0\n",
    "for w in words:\n",
    "    chs = ['.'] + list(w) + ['.']\n",
    "    for ch1, ch2 in zip(chs, chs[1:]):\n",
    "        ix1 = stoi[ch1]\n",
    "        ix2 = stoi[ch2]\n",
    "        prob = P[ix1, ix2]\n",
    "        logprob = torch.log(prob)\n",
    "        log_likelihood += logprob\n",
    "        n += 1\n",
    "        #print(f'{ch1}{ch2}: {prob:.4f} {logprob:.4f}')\n",
    "nll = -log_likelihood.item()/n\n",
    "print(f'{nll:.4f}')"
   ]
  },
  {
   "cell_type": "code",
   "execution_count": null,
   "id": "3f307df9-6d11-4577-8753-967118337ff9",
   "metadata": {},
   "outputs": [],
   "source": [
    "# create the training set of bigrams (x,y)\n",
    "xs, ys = [], []\n",
    "\n",
    "for w in words[:1]:\n",
    "    chs = ['.'] + list(w) + ['.']\n",
    "    for ch1, ch2 in zip(chs, chs[1:]):\n",
    "        ix1 = stoi[ch1]\n",
    "        ix2 = stoi[ch2]\n",
    "        xs.append(ix1)\n",
    "        ys.append(ix2)\n",
    "\n",
    "xs = torch.tensor(xs)  # advised to use x.tensor() instead of x.Tensor(): video at 1h 09m\n",
    "ys = torch.tensor(ys)"
   ]
  },
  {
   "cell_type": "code",
   "execution_count": null,
   "id": "b79f8724-d24a-4223-903b-1cb340009b64",
   "metadata": {},
   "outputs": [],
   "source": [
    "xs, ys"
   ]
  },
  {
   "cell_type": "code",
   "execution_count": null,
   "id": "5bb9e06b-4935-450a-993f-70198bcd5e30",
   "metadata": {
    "tags": []
   },
   "outputs": [],
   "source": [
    "xenc = F.one_hot(xs, num_classes=27).float() # cast to float for the NN, otherwise int64 as is xs\n",
    "xenc"
   ]
  },
  {
   "cell_type": "code",
   "execution_count": null,
   "id": "bfb285c5-b607-40a8-b22a-2d9df28cbc51",
   "metadata": {
    "tags": []
   },
   "outputs": [],
   "source": [
    "W = torch.randn((27, 27))  # interpret as 27 neurons, each with 27 inputs\n",
    "# @ is pytorch matric multiplcation operator\n",
    "logits = xenc @ W # 'logits' interpreted as 'log counts' historically\n",
    "# take exp() to get all numbers > 0, to interpret as counts\n",
    "counts = logits.exp()\n",
    "# form probability for each row as before\n",
    "probs = counts / counts.sum(1, keepdims=True)\n",
    "# 'softmax' operation is the last two lines: logits exponentiation and normalization\n",
    "probs"
   ]
  },
  {
   "cell_type": "code",
   "execution_count": null,
   "id": "0db0c911-b5e6-4c63-8662-5f3331900bf4",
   "metadata": {},
   "outputs": [],
   "source": [
    "# create the training set of bigrams (x,y)\n",
    "xs, ys = [], []\n",
    "\n",
    "for w in words:\n",
    "    chs = ['.'] + list(w) + ['.']\n",
    "    for ch1, ch2 in zip(chs, chs[1:]):\n",
    "        ix1 = stoi[ch1]\n",
    "        ix2 = stoi[ch2]\n",
    "        xs.append(ix1)\n",
    "        ys.append(ix2)\n",
    "xs = torch.tensor(xs)  # advised to use x.tensor() instead of x.Tensor(): video at 1h 09m\n",
    "ys = torch.tensor(ys)\n",
    "num = xs.nelement()\n",
    "print('number of examples: ', num)"
   ]
  },
  {
   "cell_type": "code",
   "execution_count": null,
   "id": "0e7bf00f-f393-4d14-942d-630623391c98",
   "metadata": {},
   "outputs": [],
   "source": [
    "# 27 neurons, each with 27 inputs\n",
    "g = torch.Generator().manual_seed(2147483647)\n",
    "W = torch.randn((27, 27), generator=g, requires_grad=True)"
   ]
  },
  {
   "cell_type": "code",
   "execution_count": null,
   "id": "3422f0a9-1266-4675-b218-1e1834f80b5b",
   "metadata": {
    "tags": []
   },
   "outputs": [],
   "source": [
    "# gradient descent\n",
    "for k in range(40):\n",
    "    \n",
    "    # forward pass\n",
    "    xenc   = F.one_hot(xs, num_classes=27).float()\n",
    "    logits = xenc @ W\n",
    "    counts = logits.exp()\n",
    "    probs  = counts / counts.sum(1, keepdims=True)\n",
    "    #probs[torch.arange(5), ys]  # pulls out the NN predicted probs for the target second-char\n",
    "    # get -log likelihood and add a loss function to minimize W weights (regularization)\n",
    "    loss = -probs[torch.arange(num), ys].log().mean() + 0.001 * (W**2).mean()\n",
    "    #print(loss.item())\n",
    "\n",
    "    # backward pass\n",
    "    W.grad = None # set gradient to zero for pytorch\n",
    "    loss.backward()\n",
    "\n",
    "    # update: a an element-by-element multiply of weight matrix by gradient matrix (not a matrix multiply)\n",
    "    W.data += -50 * W.grad\n",
    "print(loss.item())"
   ]
  },
  {
   "cell_type": "code",
   "execution_count": null,
   "id": "4e327f65-fb6a-417b-b86c-2e6786330b3c",
   "metadata": {},
   "outputs": [],
   "source": [
    "# sample from neural net (with same seed, get identical results to array result)\n",
    "g = torch.Generator().manual_seed(2147483647)\n",
    "for i in range(10):\n",
    "    out = []\n",
    "    ix  = 0\n",
    "    while True:\n",
    "        xenc   = F.one_hot(torch.tensor([ix]), num_classes=27).float()\n",
    "        logits = xenc @ W\n",
    "        counts = logits.exp()\n",
    "        p      = counts / counts.sum(1, keepdims=True) # prob for next char\n",
    "        ix = torch.multinomial(p, num_samples=1, replacement=True, generator=g).item()\n",
    "        out.append(itos[ix])\n",
    "        if ix == 0:\n",
    "            break\n",
    "    print(''.join(out))"
   ]
  },
  {
   "cell_type": "code",
   "execution_count": null,
   "id": "b76c6f41-05c7-45a4-bdfe-9cdf1a206025",
   "metadata": {},
   "outputs": [],
   "source": []
  },
  {
   "cell_type": "code",
   "execution_count": null,
   "id": "283d597d-bc73-437b-8074-f68c25a40fe8",
   "metadata": {},
   "outputs": [],
   "source": []
  }
 ],
 "metadata": {
  "kernelspec": {
   "display_name": "Python 3 (ipykernel)",
   "language": "python",
   "name": "python3"
  },
  "language_info": {
   "codemirror_mode": {
    "name": "ipython",
    "version": 3
   },
   "file_extension": ".py",
   "mimetype": "text/x-python",
   "name": "python",
   "nbconvert_exporter": "python",
   "pygments_lexer": "ipython3",
   "version": "3.10.6"
  }
 },
 "nbformat": 4,
 "nbformat_minor": 5
}
